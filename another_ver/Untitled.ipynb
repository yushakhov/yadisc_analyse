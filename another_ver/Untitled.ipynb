{
 "cells": [
  {
   "cell_type": "code",
   "execution_count": 1,
   "id": "885787df-73f9-48a7-b3c1-08adb3a7ef08",
   "metadata": {},
   "outputs": [
    {
     "name": "stdout",
     "output_type": "stream",
     "text": [
      "Requirement already satisfied: yadisk in /Library/Frameworks/Python.framework/Versions/3.12/lib/python3.12/site-packages (3.1.0)\n",
      "Requirement already satisfied: pandas in /Library/Frameworks/Python.framework/Versions/3.12/lib/python3.12/site-packages (2.2.2)\n",
      "Collecting webdavclient3\n",
      "  Downloading webdavclient3-3.14.6.tar.gz (23 kB)\n",
      "  Preparing metadata (setup.py) ... \u001b[?25ldone\n",
      "\u001b[?25hRequirement already satisfied: numpy>=1.26.0 in /Library/Frameworks/Python.framework/Versions/3.12/lib/python3.12/site-packages (from pandas) (2.1.0)\n",
      "Requirement already satisfied: python-dateutil>=2.8.2 in /Library/Frameworks/Python.framework/Versions/3.12/lib/python3.12/site-packages (from pandas) (2.9.0.post0)\n",
      "Requirement already satisfied: pytz>=2020.1 in /Library/Frameworks/Python.framework/Versions/3.12/lib/python3.12/site-packages (from pandas) (2024.1)\n",
      "Requirement already satisfied: tzdata>=2022.7 in /Library/Frameworks/Python.framework/Versions/3.12/lib/python3.12/site-packages (from pandas) (2024.1)\n",
      "Requirement already satisfied: requests in /Library/Frameworks/Python.framework/Versions/3.12/lib/python3.12/site-packages (from webdavclient3) (2.31.0)\n",
      "Collecting lxml (from webdavclient3)\n",
      "  Downloading lxml-5.3.0-cp312-cp312-macosx_10_9_universal2.whl.metadata (3.8 kB)\n",
      "Requirement already satisfied: six>=1.5 in /Library/Frameworks/Python.framework/Versions/3.12/lib/python3.12/site-packages (from python-dateutil>=2.8.2->pandas) (1.16.0)\n",
      "Requirement already satisfied: charset-normalizer<4,>=2 in /Library/Frameworks/Python.framework/Versions/3.12/lib/python3.12/site-packages (from requests->webdavclient3) (3.3.2)\n",
      "Requirement already satisfied: idna<4,>=2.5 in /Library/Frameworks/Python.framework/Versions/3.12/lib/python3.12/site-packages (from requests->webdavclient3) (3.6)\n",
      "Requirement already satisfied: urllib3<3,>=1.21.1 in /Library/Frameworks/Python.framework/Versions/3.12/lib/python3.12/site-packages (from requests->webdavclient3) (2.2.1)\n",
      "Requirement already satisfied: certifi>=2017.4.17 in /Library/Frameworks/Python.framework/Versions/3.12/lib/python3.12/site-packages (from requests->webdavclient3) (2024.2.2)\n",
      "Downloading lxml-5.3.0-cp312-cp312-macosx_10_9_universal2.whl (8.2 MB)\n",
      "\u001b[2K   \u001b[90m━━━━━━━━━━━━━━━━━━━━━━━━━━━━━━━━━━━━━━━━\u001b[0m \u001b[32m8.2/8.2 MB\u001b[0m \u001b[31m25.0 MB/s\u001b[0m eta \u001b[36m0:00:00\u001b[0m00:01\u001b[0m00:01\u001b[0m\n",
      "\u001b[?25hBuilding wheels for collected packages: webdavclient3\n",
      "  Building wheel for webdavclient3 (setup.py) ... \u001b[?25ldone\n",
      "\u001b[?25h  Created wheel for webdavclient3: filename=webdavclient3-3.14.6-py3-none-any.whl size=20829 sha256=5b590f613002faa233c08b547868bb34c18ef2a2ab424fe68d9e1c3ab7550cba\n",
      "  Stored in directory: /Users/shakhov/Library/Caches/pip/wheels/19/50/f9/3ad406f7254fe8b1e1f2b4878b91fda8c034f61d6d690c8ca4\n",
      "Successfully built webdavclient3\n",
      "Installing collected packages: lxml, webdavclient3\n",
      "Successfully installed lxml-5.3.0 webdavclient3-3.14.6\n",
      "\n",
      "\u001b[1m[\u001b[0m\u001b[34;49mnotice\u001b[0m\u001b[1;39;49m]\u001b[0m\u001b[39;49m A new release of pip is available: \u001b[0m\u001b[31;49m24.0\u001b[0m\u001b[39;49m -> \u001b[0m\u001b[32;49m24.2\u001b[0m\n",
      "\u001b[1m[\u001b[0m\u001b[34;49mnotice\u001b[0m\u001b[1;39;49m]\u001b[0m\u001b[39;49m To update, run: \u001b[0m\u001b[32;49mpip install --upgrade pip\u001b[0m\n",
      "Note: you may need to restart the kernel to use updated packages.\n"
     ]
    }
   ],
   "source": [
    "# %pip install yadisk pandas webdavclient3"
   ]
  },
  {
   "cell_type": "code",
   "execution_count": 52,
   "id": "bcc657e8-b594-4f2a-b813-85acad2f0a9f",
   "metadata": {},
   "outputs": [],
   "source": [
    "from webdav3.client import Client\n",
    "import pandas as pd\n",
    "import os\n",
    "import time\n",
    "import random\n",
    "import json\n",
    "import logging\n",
    "\n",
    "# Настройка логирования\n",
    "logging.basicConfig(filename='scan_log.log', level=logging.ERROR, format='%(asctime)s - %(message)s')\n",
    "\n",
    "# Установите ваши учетные данные\n",
    "WEBDAV_URL = \"https://webdav.yandex.ru\"\n",
    "WEBDAV_LOGIN = \"def-def\"\n",
    "WEBDAV_PASSWORD = \"ugpgwyctogigizlx\""
   ]
  },
  {
   "cell_type": "code",
   "execution_count": 2,
   "id": "02da07e6-c850-4dec-a8d9-6608f05e451e",
   "metadata": {},
   "outputs": [
    {
     "name": "stdout",
     "output_type": "stream",
     "text": [
      "Успешно подключено к Яндекс Диску через WebDAV\n"
     ]
    }
   ],
   "source": [
    "# Настройки клиента WebDAV\n",
    "options = {\n",
    "    'webdav_hostname': WEBDAV_URL,\n",
    "    'webdav_login': WEBDAV_LOGIN,\n",
    "    'webdav_password': WEBDAV_PASSWORD\n",
    "}\n",
    "client = Client(options)\n",
    "\n",
    "# Проверка подключения\n",
    "try:\n",
    "    client.list()\n",
    "    print(\"Успешно подключено к Яндекс Диску через WebDAV\")\n",
    "except Exception as e:\n",
    "    print(f\"Не удалось подключиться к Яндекс Диску через WebDAV: {e}\")\n",
    "    exit()\n"
   ]
  },
  {
   "cell_type": "code",
   "execution_count": 53,
   "id": "84fe3cd5-a970-4408-9b0f-006bb8f160b0",
   "metadata": {},
   "outputs": [],
   "source": [
    "# Функция для добавления данных в JSON-файл\n",
    "def append_to_json(filename, data):\n",
    "    if not os.path.exists(filename):\n",
    "        with open(filename, 'w') as f:\n",
    "            json.dump([], f)\n",
    "    \n",
    "    with open(filename, 'r+') as f:\n",
    "        file_data = json.load(f)\n",
    "        file_data.append(data)\n",
    "        f.seek(0)\n",
    "        json.dump(file_data, f, indent=4)"
   ]
  },
  {
   "cell_type": "code",
   "execution_count": 54,
   "id": "10bb6b49-1099-45a6-a369-e5e5546c89b2",
   "metadata": {},
   "outputs": [],
   "source": [
    "# Функция для рекурсивного сканирования каталогов\n",
    "def scan_directory(path=\"/\"):\n",
    "    files_info = []\n",
    "    consecutive_errors = 0\n",
    "    for item in client.list(path):\n",
    "        time.sleep(random.randint(50, 150) / 1000)\n",
    "        full_path = os.path.join(path, item)\n",
    "        print(full_path)\n",
    "        retries = 0\n",
    "        while retries < 3:\n",
    "            try:\n",
    "                if client.check(full_path):\n",
    "                    if client.is_dir(full_path):\n",
    "                        files_info.append({\n",
    "                            \"name\": item,\n",
    "                            \"path\": full_path,\n",
    "                            \"size\": 0,  # Размер папки не имеет смысла\n",
    "                            \"checksum\": None,  # Контрольная сумма для папки не имеет смысла\n",
    "                            \"type\": \"папка\"\n",
    "                        })\n",
    "                        files_info.extend(scan_directory(full_path))\n",
    "                    else:\n",
    "                        file_info = {\n",
    "                            \"name\": item,\n",
    "                            \"path\": full_path,\n",
    "                            \"size\": client.info(full_path)[\"size\"],\n",
    "                            \"checksum\": client.info(full_path).get(\"checksum\", None),\n",
    "                            \"type\": \"файл\"\n",
    "                        }\n",
    "                        files_info.append(file_info)\n",
    "                        # Запись данных в JSON-файл\n",
    "                        append_to_json(\"yandex_disk_files.json\", file_info)\n",
    "                    consecutive_errors = 0\n",
    "                    break\n",
    "                else:\n",
    "                    consecutive_errors += 1\n",
    "                    logging.error(f\"Объект не найден: {full_path}\")\n",
    "            except Exception as e:\n",
    "                retries += 1\n",
    "                consecutive_errors += 1\n",
    "                logging.error(f\"Ошибка при считывании объекта {full_path}: {e}\")\n",
    "                time.sleep(2)\n",
    "        \n",
    "        if consecutive_errors >= 50:\n",
    "            logging.error(\"Превышено количество последовательных ошибок. Завершение работы скрипта.\")\n",
    "            exit()\n",
    "\n",
    "    return files_info"
   ]
  },
  {
   "cell_type": "code",
   "execution_count": 55,
   "id": "e5c785c9-d005-47ec-80dd-43fd59b16a32",
   "metadata": {},
   "outputs": [
    {
     "name": "stdout",
     "output_type": "stream",
     "text": [
      "/!!! РАЗОБРАННЫЕ ФОТО/\n",
      "/!!! РАЗОБРАННЫЕ ФОТО/!!!МАМА!!!/\n",
      "/!!! РАЗОБРАННЫЕ ФОТО/!!!МАМА!!!/190 завод/\n",
      "/!!! РАЗОБРАННЫЕ ФОТО/!!!МАМА!!!/190 завод/190й завод_05.08.2008 12-14-53.jpg\n",
      "/!!! РАЗОБРАННЫЕ ФОТО/!!!МАМА!!!/190 завод/190й завод_05.08.2008 14-52-17.jpg\n",
      "/!!! РАЗОБРАННЫЕ ФОТО/!!!МАМА!!!/190 завод/190й завод_05.08.2008 15-34-17.jpg\n",
      "/!!! РАЗОБРАННЫЕ ФОТО/!!!МАМА!!!/190 завод/190й завод_05.08.2008 15-43-52.jpg\n",
      "/!!! РАЗОБРАННЫЕ ФОТО/!!!МАМА!!!/190 завод/190й завод_05.08.2008 15-44-56.jpg\n",
      "/!!! РАЗОБРАННЫЕ ФОТО/!!!МАМА!!!/190 завод/190й завод_05.08.2008 15-45-35.jpg\n",
      "/!!! РАЗОБРАННЫЕ ФОТО/!!!МАМА!!!/190 завод/190й завод_05.08.2008 15-46-18.jpg\n",
      "/!!! РАЗОБРАННЫЕ ФОТО/!!!МАМА!!!/190 завод/190й завод_05.08.2008 9-24-14.jpg\n",
      "/!!! РАЗОБРАННЫЕ ФОТО/!!!МАМА!!!/190 завод/190й завод_05.08.2008 9-28-12.jpg\n",
      "/!!! РАЗОБРАННЫЕ ФОТО/!!!МАМА!!!/190 завод/190й завод_12.08.2008 10-39-00.jpg\n",
      "/!!! РАЗОБРАННЫЕ ФОТО/!!!МАМА!!!/190 завод/190й завод_12.08.2008 10-39-39.jpg\n",
      "/!!! РАЗОБРАННЫЕ ФОТО/!!!МАМА!!!/190 завод/190й завод_12.08.2008 13-55-10.jpg\n",
      "/!!! РАЗОБРАННЫЕ ФОТО/!!!МАМА!!!/190 завод/190й завод_12.08.2008 13-55-49.jpg\n",
      "/!!! РАЗОБРАННЫЕ ФОТО/!!!МАМА!!!/190 завод/190й завод_12.08.2008 13-55-57.jpg\n",
      "/!!! РАЗОБРАННЫЕ ФОТО/!!!МАМА!!!/190 завод/190й завод_12.08.2008 13-58-30.jpg\n",
      "/!!! РАЗОБРАННЫЕ ФОТО/!!!МАМА!!!/190 завод/190й завод_12.08.2008 13-59-00.jpg\n",
      "/!!! РАЗОБРАННЫЕ ФОТО/!!!МАМА!!!/190 завод/190й завод_12.08.2008 14-00-09.jpg\n",
      "/!!! РАЗОБРАННЫЕ ФОТО/!!!МАМА!!!/190 завод/190й завод_12.08.2008 14-00-34.jpg\n",
      "/!!! РАЗОБРАННЫЕ ФОТО/!!!МАМА!!!/190 завод/190й завод_12.08.2008 14-01-49.jpg\n",
      "/!!! РАЗОБРАННЫЕ ФОТО/!!!МАМА!!!/190 завод/190й завод_12.08.2008 14-02-06.jpg\n",
      "/!!! РАЗОБРАННЫЕ ФОТО/!!!МАМА!!!/190 завод/190й завод_12.08.2008 14-04-45.jpg\n",
      "/!!! РАЗОБРАННЫЕ ФОТО/!!!МАМА!!!/190 завод/190й завод_12.08.2008 14-05-20.jpg\n",
      "/!!! РАЗОБРАННЫЕ ФОТО/!!!МАМА!!!/190 завод/190й завод_12.08.2008 14-06-14.jpg\n",
      "/!!! РАЗОБРАННЫЕ ФОТО/!!!МАМА!!!/190 завод/190й завод_12.08.2008 14-06-36.jpg\n",
      "/!!! РАЗОБРАННЫЕ ФОТО/!!!МАМА!!!/190 завод/190й завод_12.08.2008 14-53-06.jpg\n",
      "/!!! РАЗОБРАННЫЕ ФОТО/!!!МАМА!!!/190 завод/190й завод_12.08.2008 14-54-38.jpg\n",
      "/!!! РАЗОБРАННЫЕ ФОТО/!!!МАМА!!!/190 завод/190й завод_13.10.2008 10-00-15.jpg\n",
      "/!!! РАЗОБРАННЫЕ ФОТО/!!!МАМА!!!/190 завод/190й завод_13.10.2008 9-17-10.jpg\n",
      "/!!! РАЗОБРАННЫЕ ФОТО/!!!МАМА!!!/190 завод/190й завод_16.09.2008 13-06-51.jpg\n",
      "/!!! РАЗОБРАННЫЕ ФОТО/!!!МАМА!!!/190 завод/190й завод_16.09.2008 13-07-50.jpg\n",
      "/!!! РАЗОБРАННЫЕ ФОТО/!!!МАМА!!!/190 завод/190й завод_29.08.2008 14-40-32.jpg\n",
      "/!!! РАЗОБРАННЫЕ ФОТО/!!!МАМА!!!/2005, октябрь 14 - 190й завод в театре/\n",
      "/!!! РАЗОБРАННЫЕ ФОТО/!!!МАМА!!!/2005, октябрь 14 - 190й завод в театре/PA140002.JPG\n",
      "/!!! РАЗОБРАННЫЕ ФОТО/!!!МАМА!!!/2005, октябрь 14 - 190й завод в театре/PA140003.JPG\n"
     ]
    },
    {
     "ename": "KeyboardInterrupt",
     "evalue": "",
     "output_type": "error",
     "traceback": [
      "\u001b[0;31m---------------------------------------------------------------------------\u001b[0m",
      "\u001b[0;31mKeyboardInterrupt\u001b[0m                         Traceback (most recent call last)",
      "Cell \u001b[0;32mIn[55], line 2\u001b[0m\n\u001b[1;32m      1\u001b[0m \u001b[38;5;66;03m# Сканирование всего дерева каталогов\u001b[39;00m\n\u001b[0;32m----> 2\u001b[0m \u001b[43mscan_directory\u001b[49m\u001b[43m(\u001b[49m\u001b[43m)\u001b[49m\n\u001b[1;32m      4\u001b[0m \u001b[38;5;28mprint\u001b[39m(\u001b[38;5;124m\"\u001b[39m\u001b[38;5;124mСканирование завершено и данные сохранены в yandex_disk_files.json\u001b[39m\u001b[38;5;124m\"\u001b[39m)\n",
      "Cell \u001b[0;32mIn[54], line 21\u001b[0m, in \u001b[0;36mscan_directory\u001b[0;34m(path)\u001b[0m\n\u001b[1;32m     13\u001b[0m \u001b[38;5;28;01mif\u001b[39;00m client\u001b[38;5;241m.\u001b[39mis_dir(full_path):\n\u001b[1;32m     14\u001b[0m     files_info\u001b[38;5;241m.\u001b[39mappend({\n\u001b[1;32m     15\u001b[0m         \u001b[38;5;124m\"\u001b[39m\u001b[38;5;124mname\u001b[39m\u001b[38;5;124m\"\u001b[39m: item,\n\u001b[1;32m     16\u001b[0m         \u001b[38;5;124m\"\u001b[39m\u001b[38;5;124mpath\u001b[39m\u001b[38;5;124m\"\u001b[39m: full_path,\n\u001b[0;32m   (...)\u001b[0m\n\u001b[1;32m     19\u001b[0m         \u001b[38;5;124m\"\u001b[39m\u001b[38;5;124mtype\u001b[39m\u001b[38;5;124m\"\u001b[39m: \u001b[38;5;124m\"\u001b[39m\u001b[38;5;124mпапка\u001b[39m\u001b[38;5;124m\"\u001b[39m\n\u001b[1;32m     20\u001b[0m     })\n\u001b[0;32m---> 21\u001b[0m     files_info\u001b[38;5;241m.\u001b[39mextend(\u001b[43mscan_directory\u001b[49m\u001b[43m(\u001b[49m\u001b[43mfull_path\u001b[49m\u001b[43m)\u001b[49m)\n\u001b[1;32m     22\u001b[0m \u001b[38;5;28;01melse\u001b[39;00m:\n\u001b[1;32m     23\u001b[0m     file_info \u001b[38;5;241m=\u001b[39m {\n\u001b[1;32m     24\u001b[0m         \u001b[38;5;124m\"\u001b[39m\u001b[38;5;124mname\u001b[39m\u001b[38;5;124m\"\u001b[39m: item,\n\u001b[1;32m     25\u001b[0m         \u001b[38;5;124m\"\u001b[39m\u001b[38;5;124mpath\u001b[39m\u001b[38;5;124m\"\u001b[39m: full_path,\n\u001b[0;32m   (...)\u001b[0m\n\u001b[1;32m     28\u001b[0m         \u001b[38;5;124m\"\u001b[39m\u001b[38;5;124mtype\u001b[39m\u001b[38;5;124m\"\u001b[39m: \u001b[38;5;124m\"\u001b[39m\u001b[38;5;124mфайл\u001b[39m\u001b[38;5;124m\"\u001b[39m\n\u001b[1;32m     29\u001b[0m     }\n",
      "Cell \u001b[0;32mIn[54], line 21\u001b[0m, in \u001b[0;36mscan_directory\u001b[0;34m(path)\u001b[0m\n\u001b[1;32m     13\u001b[0m \u001b[38;5;28;01mif\u001b[39;00m client\u001b[38;5;241m.\u001b[39mis_dir(full_path):\n\u001b[1;32m     14\u001b[0m     files_info\u001b[38;5;241m.\u001b[39mappend({\n\u001b[1;32m     15\u001b[0m         \u001b[38;5;124m\"\u001b[39m\u001b[38;5;124mname\u001b[39m\u001b[38;5;124m\"\u001b[39m: item,\n\u001b[1;32m     16\u001b[0m         \u001b[38;5;124m\"\u001b[39m\u001b[38;5;124mpath\u001b[39m\u001b[38;5;124m\"\u001b[39m: full_path,\n\u001b[0;32m   (...)\u001b[0m\n\u001b[1;32m     19\u001b[0m         \u001b[38;5;124m\"\u001b[39m\u001b[38;5;124mtype\u001b[39m\u001b[38;5;124m\"\u001b[39m: \u001b[38;5;124m\"\u001b[39m\u001b[38;5;124mпапка\u001b[39m\u001b[38;5;124m\"\u001b[39m\n\u001b[1;32m     20\u001b[0m     })\n\u001b[0;32m---> 21\u001b[0m     files_info\u001b[38;5;241m.\u001b[39mextend(\u001b[43mscan_directory\u001b[49m\u001b[43m(\u001b[49m\u001b[43mfull_path\u001b[49m\u001b[43m)\u001b[49m)\n\u001b[1;32m     22\u001b[0m \u001b[38;5;28;01melse\u001b[39;00m:\n\u001b[1;32m     23\u001b[0m     file_info \u001b[38;5;241m=\u001b[39m {\n\u001b[1;32m     24\u001b[0m         \u001b[38;5;124m\"\u001b[39m\u001b[38;5;124mname\u001b[39m\u001b[38;5;124m\"\u001b[39m: item,\n\u001b[1;32m     25\u001b[0m         \u001b[38;5;124m\"\u001b[39m\u001b[38;5;124mpath\u001b[39m\u001b[38;5;124m\"\u001b[39m: full_path,\n\u001b[0;32m   (...)\u001b[0m\n\u001b[1;32m     28\u001b[0m         \u001b[38;5;124m\"\u001b[39m\u001b[38;5;124mtype\u001b[39m\u001b[38;5;124m\"\u001b[39m: \u001b[38;5;124m\"\u001b[39m\u001b[38;5;124mфайл\u001b[39m\u001b[38;5;124m\"\u001b[39m\n\u001b[1;32m     29\u001b[0m     }\n",
      "Cell \u001b[0;32mIn[54], line 21\u001b[0m, in \u001b[0;36mscan_directory\u001b[0;34m(path)\u001b[0m\n\u001b[1;32m     13\u001b[0m \u001b[38;5;28;01mif\u001b[39;00m client\u001b[38;5;241m.\u001b[39mis_dir(full_path):\n\u001b[1;32m     14\u001b[0m     files_info\u001b[38;5;241m.\u001b[39mappend({\n\u001b[1;32m     15\u001b[0m         \u001b[38;5;124m\"\u001b[39m\u001b[38;5;124mname\u001b[39m\u001b[38;5;124m\"\u001b[39m: item,\n\u001b[1;32m     16\u001b[0m         \u001b[38;5;124m\"\u001b[39m\u001b[38;5;124mpath\u001b[39m\u001b[38;5;124m\"\u001b[39m: full_path,\n\u001b[0;32m   (...)\u001b[0m\n\u001b[1;32m     19\u001b[0m         \u001b[38;5;124m\"\u001b[39m\u001b[38;5;124mtype\u001b[39m\u001b[38;5;124m\"\u001b[39m: \u001b[38;5;124m\"\u001b[39m\u001b[38;5;124mпапка\u001b[39m\u001b[38;5;124m\"\u001b[39m\n\u001b[1;32m     20\u001b[0m     })\n\u001b[0;32m---> 21\u001b[0m     files_info\u001b[38;5;241m.\u001b[39mextend(\u001b[43mscan_directory\u001b[49m\u001b[43m(\u001b[49m\u001b[43mfull_path\u001b[49m\u001b[43m)\u001b[49m)\n\u001b[1;32m     22\u001b[0m \u001b[38;5;28;01melse\u001b[39;00m:\n\u001b[1;32m     23\u001b[0m     file_info \u001b[38;5;241m=\u001b[39m {\n\u001b[1;32m     24\u001b[0m         \u001b[38;5;124m\"\u001b[39m\u001b[38;5;124mname\u001b[39m\u001b[38;5;124m\"\u001b[39m: item,\n\u001b[1;32m     25\u001b[0m         \u001b[38;5;124m\"\u001b[39m\u001b[38;5;124mpath\u001b[39m\u001b[38;5;124m\"\u001b[39m: full_path,\n\u001b[0;32m   (...)\u001b[0m\n\u001b[1;32m     28\u001b[0m         \u001b[38;5;124m\"\u001b[39m\u001b[38;5;124mtype\u001b[39m\u001b[38;5;124m\"\u001b[39m: \u001b[38;5;124m\"\u001b[39m\u001b[38;5;124mфайл\u001b[39m\u001b[38;5;124m\"\u001b[39m\n\u001b[1;32m     29\u001b[0m     }\n",
      "Cell \u001b[0;32mIn[54], line 6\u001b[0m, in \u001b[0;36mscan_directory\u001b[0;34m(path)\u001b[0m\n\u001b[1;32m      4\u001b[0m consecutive_errors \u001b[38;5;241m=\u001b[39m \u001b[38;5;241m0\u001b[39m\n\u001b[1;32m      5\u001b[0m \u001b[38;5;28;01mfor\u001b[39;00m item \u001b[38;5;129;01min\u001b[39;00m client\u001b[38;5;241m.\u001b[39mlist(path):\n\u001b[0;32m----> 6\u001b[0m     \u001b[43mtime\u001b[49m\u001b[38;5;241;43m.\u001b[39;49m\u001b[43msleep\u001b[49m\u001b[43m(\u001b[49m\u001b[43mrandom\u001b[49m\u001b[38;5;241;43m.\u001b[39;49m\u001b[43mrandint\u001b[49m\u001b[43m(\u001b[49m\u001b[38;5;241;43m50\u001b[39;49m\u001b[43m,\u001b[49m\u001b[43m \u001b[49m\u001b[38;5;241;43m150\u001b[39;49m\u001b[43m)\u001b[49m\u001b[43m \u001b[49m\u001b[38;5;241;43m/\u001b[39;49m\u001b[43m \u001b[49m\u001b[38;5;241;43m1000\u001b[39;49m\u001b[43m)\u001b[49m\n\u001b[1;32m      7\u001b[0m     full_path \u001b[38;5;241m=\u001b[39m os\u001b[38;5;241m.\u001b[39mpath\u001b[38;5;241m.\u001b[39mjoin(path, item)\n\u001b[1;32m      8\u001b[0m     \u001b[38;5;28mprint\u001b[39m(full_path)\n",
      "\u001b[0;31mKeyboardInterrupt\u001b[0m: "
     ]
    }
   ],
   "source": [
    "# Сканирование всего дерева каталогов\n",
    "scan_directory()\n",
    "\n",
    "print(\"Сканирование завершено и данные сохранены в yandex_disk_files.json\")"
   ]
  },
  {
   "cell_type": "code",
   "execution_count": null,
   "id": "d91441db-1412-4b35-ad8d-e9a9d7792452",
   "metadata": {},
   "outputs": [],
   "source": []
  }
 ],
 "metadata": {
  "kernelspec": {
   "display_name": "Python 3 (ipykernel)",
   "language": "python",
   "name": "python3"
  },
  "language_info": {
   "codemirror_mode": {
    "name": "ipython",
    "version": 3
   },
   "file_extension": ".py",
   "mimetype": "text/x-python",
   "name": "python",
   "nbconvert_exporter": "python",
   "pygments_lexer": "ipython3",
   "version": "3.12.2"
  }
 },
 "nbformat": 4,
 "nbformat_minor": 5
}
