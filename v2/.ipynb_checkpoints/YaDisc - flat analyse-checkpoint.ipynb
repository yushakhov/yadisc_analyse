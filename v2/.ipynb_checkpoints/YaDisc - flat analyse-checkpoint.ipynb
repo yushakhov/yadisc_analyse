{
 "cells": [
  {
   "cell_type": "code",
   "execution_count": 14,
   "id": "e2aa2aa0-b0f1-4f6e-9e52-d83dcd387ec2",
   "metadata": {},
   "outputs": [],
   "source": [
    "import requests\n",
    "import csv\n",
    "import logging\n",
    "\n",
    "# Настройка логирования\n",
    "logging.basicConfig(level=logging.INFO)\n",
    "logger = logging.getLogger(__name__)"
   ]
  },
  {
   "cell_type": "code",
   "execution_count": 8,
   "id": "8a4338cd-60eb-46e0-b667-004c38886cac",
   "metadata": {},
   "outputs": [],
   "source": [
    "\n",
    "# Ваш OAuth-токен Яндекс Диска\n",
    "OAUTH_TOKEN = 'y0_AgAAAAAAVtKZAAykGAAAAAEVS4ljAADxRJXH2c9ISbj80DIgMYXg-8Zhxg'\n",
    "\n",
    "# URL для запроса списка всех файлов\n",
    "FILES_URL = 'https://cloud-api.yandex.net/v1/disk/resources/files'\n",
    "\n",
    "# Заголовки для запроса\n",
    "headers = {\n",
    "    'Authorization': f'OAuth {OAUTH_TOKEN}'\n",
    "}\n"
   ]
  },
  {
   "cell_type": "code",
   "execution_count": 15,
   "id": "2feef278-f8b4-470e-8fa2-54d60b72707c",
   "metadata": {},
   "outputs": [],
   "source": [
    "\n",
    "# Функция для получения всех файлов с Яндекс Диска\n",
    "def get_all_files(url, headers):\n",
    "    files = []\n",
    "    params = {'limit': 1000000}\n",
    "    while True:\n",
    "        response = requests.get(url, headers=headers, params=params)\n",
    "        response.raise_for_status()\n",
    "        data = response.json()\n",
    "        files.extend(data['items'])\n",
    "        if 'next' in data:\n",
    "            params['offset'] = data['next']\n",
    "        else:\n",
    "            break\n",
    "    return files\n",
    "\n",
    "# Функция для поиска дубликатов файлов\n",
    "def find_duplicates(files):\n",
    "    duplicates = {}\n",
    "    for file in files:\n",
    "        name = file['name']\n",
    "        size = file['size']\n",
    "        path = file['path']\n",
    "        folder_name = path.rsplit('/', 1)[0]\n",
    "        if name in duplicates:\n",
    "            duplicates[name].append((path, folder_name, size))\n",
    "        else:\n",
    "            duplicates[name] = [(path, folder_name, size)]\n",
    "    return {name: paths for name, paths in duplicates.items() if len(paths) > 1}"
   ]
  },
  {
   "cell_type": "code",
   "execution_count": 16,
   "id": "1e224fa6-0355-473e-9a95-cc50f64e8841",
   "metadata": {},
   "outputs": [],
   "source": [
    "\n",
    "# Функция для сохранения результатов в CSV-файл\n",
    "def save_to_csv(duplicates, filename='duplicates.csv'):\n",
    "    with open(filename, 'w', newline='', encoding='utf-8') as csvfile:\n",
    "        fieldnames = ['File Name', 'Full Path', 'Folder Name', 'File Size']\n",
    "        writer = csv.DictWriter(csvfile, fieldnames=fieldnames)\n",
    "        writer.writeheader()\n",
    "        for name, paths in duplicates.items():\n",
    "            for path, folder_name, size in paths:\n",
    "                writer.writerow({\n",
    "                    'File Name': name,\n",
    "                    'Full Path': path,\n",
    "                    'Folder Name': folder_name,\n",
    "                    'File Size': size\n",
    "                })"
   ]
  },
  {
   "cell_type": "code",
   "execution_count": null,
   "id": "7c5da0da-9f31-4e9c-b6bb-054cbc33c98e",
   "metadata": {},
   "outputs": [],
   "source": [
    "\n",
    "# Основная функция\n",
    "def main():\n",
    "    files = get_all_files(FILES_URL, headers)\n",
    "    duplicates = find_duplicates(files)\n",
    "    save_to_csv(duplicates)\n",
    "    print(f\"Дубликаты файлов сохранены в файл 'duplicates.csv'\")\n",
    "\n",
    "if __name__ == \"__main__\":\n",
    "    main()\n",
    "\n",
    "\n",
    "\n",
    "\n",
    "\n",
    "\n"
   ]
  },
  {
   "cell_type": "code",
   "execution_count": null,
   "id": "62e39186-8018-452a-85bc-97c1b8b5709a",
   "metadata": {},
   "outputs": [],
   "source": []
  }
 ],
 "metadata": {
  "kernelspec": {
   "display_name": "Python 3 (ipykernel)",
   "language": "python",
   "name": "python3"
  },
  "language_info": {
   "codemirror_mode": {
    "name": "ipython",
    "version": 3
   },
   "file_extension": ".py",
   "mimetype": "text/x-python",
   "name": "python",
   "nbconvert_exporter": "python",
   "pygments_lexer": "ipython3",
   "version": "3.12.2"
  }
 },
 "nbformat": 4,
 "nbformat_minor": 5
}
