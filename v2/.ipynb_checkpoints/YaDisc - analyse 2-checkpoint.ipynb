{
 "cells": [
  {
   "cell_type": "code",
   "execution_count": null,
   "id": "271f7547-2cc5-46a9-9fcc-97a0cdbcf210",
   "metadata": {},
   "outputs": [],
   "source": [
    "import yadisk\n",
    "import pandas as pd\n",
    "from collections import defaultdict\n",
    "import logging\n",
    "\n",
    "# Настройка логирования\n",
    "logging.basicConfig(level=logging.INFO)\n",
    "logger = logging.getLogger(__name__)"
   ]
  },
  {
   "cell_type": "code",
   "execution_count": null,
   "id": "04308a1b-97a6-48f0-a14c-ba5b05e86906",
   "metadata": {},
   "outputs": [],
   "source": [
    "# Установите ваши токены доступа\n",
    "y = yadisk.YaDisk(token=\"y0_AgAAAAAAVtKZAAykGAAAAAEVS4ljAADxRJXH2c9ISbj80DIgMYXg-8Zhxg\")\n",
    "\n",
    "# Проверка, авторизован ли пользователь\n",
    "if y.check_token():\n",
    "    logger.info(\"Успешная авторизация\")\n",
    "else:\n",
    "    logger.error(\"Ошибка авторизации\")\n",
    "    exit()"
   ]
  },
  {
   "cell_type": "code",
   "execution_count": null,
   "id": "fe3d2d71-02b9-497c-aaed-d7bcdf58e05e",
   "metadata": {},
   "outputs": [],
   "source": [
    "\n",
    "\n",
    "# Функция для проверки существования пути\n",
    "def path_exists(path):\n",
    "    try:\n",
    "        y.get_meta(path)\n",
    "        return True\n",
    "    except yadisk.exceptions.PathNotFoundError:\n",
    "        return False"
   ]
  },
  {
   "cell_type": "code",
   "execution_count": null,
   "id": "fd39ab4e-d2f3-41b6-8321-f899f0b52601",
   "metadata": {},
   "outputs": [],
   "source": [
    "# dir(y.listdir('/'))\n",
    "# [i for i in y.listdir('/')]"
   ]
  },
  {
   "cell_type": "code",
   "execution_count": null,
   "id": "410c86f3-caa2-40f7-88b5-47b67518241b",
   "metadata": {},
   "outputs": [],
   "source": [
    "\n",
    "# Рекурсивная функция для сканирования всех файлов\n",
    "def scan_folder(exclude, path=\"/\"):\n",
    "    \n",
    "    if not path_exists(path):\n",
    "        logger.error(f\"Путь не найден: {path}\")\n",
    "        return\n",
    "\n",
    "    # Словарь для хранения информации о файлах\n",
    "    # file_info = defaultdict(list)\n",
    "    file_info = []\n",
    "\n",
    "    for item in y.listdir(path):\n",
    "        full_path = f\"{path if path != '/' else ''}/{item['name']}\"\n",
    "        if item['type'] == 'dir':\n",
    "            print(full_path)\n",
    "            for ex_path in exclude:\n",
    "                if ex_path in full_path:\n",
    "                    break\n",
    "                else:\n",
    "                    scan_folder(exclude, full_path)\n",
    "                    break\n",
    "        elif item['type'] == 'file':\n",
    "            file_name = item['name']\n",
    "            # full_path = item['path']\n",
    "            file_size = item['size']\n",
    "            # modified = item['modified']\n",
    "            # resource_id = item['resource_id']\n",
    "            # gps_longitude = dict(item['exif'])['gps_longitude']\n",
    "            # gps_latitude = dict(item['exif'])['gps_latitude']\n",
    "            file_info.append([file_name, file_size, path])\n",
    "            logger.info(f\"обработан: {(file_size, file_name)}\")\n",
    "    # Запись информации о файлах в файл\n",
    "    with open('data.txt', 'a') as f:\n",
    "        for i in file_info:\n",
    "            f.write(f\"{i[0]},{i[1]},{i[2]}\\n\")\n"
   ]
  },
  {
   "cell_type": "code",
   "execution_count": null,
   "id": "1b55d34b-2435-4b9d-b868-0eb8183b3ab2",
   "metadata": {},
   "outputs": [],
   "source": [
    "exclude = ['Дистрибутивы','Архив переписок', ':::',]\n",
    "# Начать сканирование с корневой папки\n",
    "scan_folder(exclude)\n",
    "# scan_folder(exclude, '/Записки')"
   ]
  },
  {
   "cell_type": "code",
   "execution_count": null,
   "id": "94e8cc58-6d25-4ea4-bab8-257f3f600985",
   "metadata": {},
   "outputs": [],
   "source": []
  },
  {
   "cell_type": "code",
   "execution_count": null,
   "id": "b6b8e8be-fedd-43aa-8890-55fd4c6b8fb9",
   "metadata": {},
   "outputs": [],
   "source": []
  }
 ],
 "metadata": {
  "kernelspec": {
   "display_name": "Python 3 (ipykernel)",
   "language": "python",
   "name": "python3"
  },
  "language_info": {
   "codemirror_mode": {
    "name": "ipython",
    "version": 3
   },
   "file_extension": ".py",
   "mimetype": "text/x-python",
   "name": "python",
   "nbconvert_exporter": "python",
   "pygments_lexer": "ipython3",
   "version": "3.12.2"
  }
 },
 "nbformat": 4,
 "nbformat_minor": 5
}
